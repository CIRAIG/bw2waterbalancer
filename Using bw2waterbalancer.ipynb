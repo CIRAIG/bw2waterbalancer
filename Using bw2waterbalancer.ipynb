{
 "cells": [
  {
   "cell_type": "markdown",
   "metadata": {},
   "source": [
    "# Using `bw2waterbalancer`\n",
    "\n",
    "Notebook showing typical usage of `bw2waterbalancer`"
   ]
  },
  {
   "cell_type": "markdown",
   "metadata": {},
   "source": [
    "## Generating the samples"
   ]
  },
  {
   "cell_type": "markdown",
   "metadata": {},
   "source": [
    "`bw2waterbalancer` works with Brightway2. You only need set as current a project in which the database for which you want to balance water exchanges is imported."
   ]
  },
  {
   "cell_type": "code",
   "execution_count": 1,
   "metadata": {},
   "outputs": [],
   "source": [
    "import brightway2 as bw\n",
    "import numpy as np\n",
    "bw.projects.set_current('ei36cutoff')"
   ]
  },
  {
   "cell_type": "markdown",
   "metadata": {},
   "source": [
    "The only Class you need is the `DatabaseWaterBalancer`:"
   ]
  },
  {
   "cell_type": "code",
   "execution_count": 2,
   "metadata": {},
   "outputs": [],
   "source": [
    "from bw2waterbalancer import DatabaseWaterBalancer"
   ]
  },
  {
   "cell_type": "markdown",
   "metadata": {},
   "source": [
    "Instantiating the DatabaseWaterBalancer will automatically identify activities that are associated with water exchanges. "
   ]
  },
  {
   "cell_type": "code",
   "execution_count": 3,
   "metadata": {},
   "outputs": [
    {
     "name": "stdout",
     "output_type": "stream",
     "text": [
      "Validating data\n",
      "Getting information on technosphere water exchanges\n"
     ]
    },
    {
     "name": "stderr",
     "output_type": "stream",
     "text": [
      "0% [##############################] 100% | ETA: 00:00:00\n",
      "Total time elapsed: 00:00:00\n"
     ]
    },
    {
     "name": "stdout",
     "output_type": "stream",
     "text": [
      "Getting information on biosphere water exchanges\n"
     ]
    },
    {
     "name": "stderr",
     "output_type": "stream",
     "text": [
      "0% [##############################] 100% | ETA: 00:00:00\n",
      "Total time elapsed: 00:00:49\n"
     ]
    }
   ],
   "source": [
    "dwb = DatabaseWaterBalancer(\n",
    "    ecoinvent_version=\"3.6\", # used to identify activities with water production exchanges\n",
    "    database_name=\"ei36_cutoff\", #name the LCI db in the brightway2 project\n",
    ")"
   ]
  },
  {
   "cell_type": "markdown",
   "metadata": {},
   "source": [
    "Generating presamples for the whole database is a lengthy process. Thankfully, it only ever needs to be done once per database:"
   ]
  },
  {
   "cell_type": "code",
   "execution_count": 4,
   "metadata": {},
   "outputs": [
    {
     "name": "stderr",
     "output_type": "stream",
     "text": [
      "0% [##############################] 100% | ETA: 00:00:00\n",
      "Total time elapsed: 02:59:48\n"
     ]
    }
   ],
   "source": [
    "dwb.add_samples_for_all_acts(iterations=1000)"
   ]
  },
  {
   "cell_type": "markdown",
   "metadata": {},
   "source": [
    "The samples and associated indices are stored as attributes: "
   ]
  },
  {
   "cell_type": "code",
   "execution_count": 5,
   "metadata": {},
   "outputs": [
    {
     "data": {
      "text/plain": [
       "array([[ 1.04352951e-04,  1.35944232e-04,  2.06009079e-04, ...,\n",
       "         2.47270819e-04,  1.12496043e-04,  2.51163214e-04],\n",
       "       [ 8.50888578e-04,  1.00799771e-03,  8.83137768e-04, ...,\n",
       "         7.34778670e-04,  5.39244202e-04,  6.95238846e-04],\n",
       "       [ 9.55241529e-04,  1.14394194e-03,  1.08914685e-03, ...,\n",
       "         9.82049488e-04,  6.51740245e-04,  9.46402060e-04],\n",
       "       ...,\n",
       "       [ 6.86263392e-07,  6.33050532e-07,  8.14294829e-07, ...,\n",
       "         9.64987748e-07,  6.27834675e-07,  1.21880872e-06],\n",
       "       [-3.93123930e-03, -4.00336445e-03, -3.26208195e-03, ...,\n",
       "        -3.22872164e-03, -4.06910916e-03, -2.88886878e-03],\n",
       "       [ 5.20718858e-06,  5.23691965e-06,  4.56568907e-06, ...,\n",
       "         4.67801763e-06,  5.30731021e-06,  4.54100782e-06]])"
      ]
     },
     "execution_count": 5,
     "metadata": {},
     "output_type": "execute_result"
    }
   ],
   "source": [
    "dwb.matrix_samples"
   ]
  },
  {
   "cell_type": "code",
   "execution_count": 6,
   "metadata": {},
   "outputs": [
    {
     "data": {
      "text/plain": [
       "(26640, 1000)"
      ]
     },
     "execution_count": 6,
     "metadata": {},
     "output_type": "execute_result"
    }
   ],
   "source": [
    "dwb.matrix_samples.shape"
   ]
  },
  {
   "cell_type": "code",
   "execution_count": 7,
   "metadata": {},
   "outputs": [
    {
     "data": {
      "text/plain": [
       "[(('biosphere3', '075e433b-4be4-448e-9510-9a5029c1ce94'),\n",
       "  ('ei36_cutoff', 'd0fac494176f7206524a5561ee1e85c5'),\n",
       "  'biosphere'),\n",
       " (('biosphere3', '2404b41a-2eed-4e9d-8ab6-783946fdf5d6'),\n",
       "  ('ei36_cutoff', 'd0fac494176f7206524a5561ee1e85c5'),\n",
       "  'biosphere'),\n",
       " (('biosphere3', '831f249e-53f2-49cf-a93c-7cee105f048e'),\n",
       "  ('ei36_cutoff', 'd0fac494176f7206524a5561ee1e85c5'),\n",
       "  'biosphere'),\n",
       " (('biosphere3', '2404b41a-2eed-4e9d-8ab6-783946fdf5d6'),\n",
       "  ('ei36_cutoff', '0a48c800e5747cc42ba09f33fb04afb0'),\n",
       "  'biosphere'),\n",
       " (('biosphere3', 'fc1c42ce-a759-49fa-b987-f1ec5e503db1'),\n",
       "  ('ei36_cutoff', '0a48c800e5747cc42ba09f33fb04afb0'),\n",
       "  'biosphere'),\n",
       " (('biosphere3', '075e433b-4be4-448e-9510-9a5029c1ce94'),\n",
       "  ('ei36_cutoff', '0a48c800e5747cc42ba09f33fb04afb0'),\n",
       "  'biosphere'),\n",
       " (('biosphere3', '2404b41a-2eed-4e9d-8ab6-783946fdf5d6'),\n",
       "  ('ei36_cutoff', '45730b731e0959f6e880cc40ea48197e'),\n",
       "  'biosphere'),\n",
       " (('biosphere3', '075e433b-4be4-448e-9510-9a5029c1ce94'),\n",
       "  ('ei36_cutoff', '45730b731e0959f6e880cc40ea48197e'),\n",
       "  'biosphere'),\n",
       " (('biosphere3', '831f249e-53f2-49cf-a93c-7cee105f048e'),\n",
       "  ('ei36_cutoff', '45730b731e0959f6e880cc40ea48197e'),\n",
       "  'biosphere'),\n",
       " (('biosphere3', '075e433b-4be4-448e-9510-9a5029c1ce94'),\n",
       "  ('ei36_cutoff', '3f69cd8971c594a620eb67b3f260edf2'),\n",
       "  'biosphere')]"
      ]
     },
     "execution_count": 7,
     "metadata": {},
     "output_type": "execute_result"
    }
   ],
   "source": [
    "dwb.matrix_indices[0:10] # First ten indices"
   ]
  },
  {
   "cell_type": "code",
   "execution_count": 8,
   "metadata": {},
   "outputs": [
    {
     "data": {
      "text/plain": [
       "26640"
      ]
     },
     "execution_count": 8,
     "metadata": {},
     "output_type": "execute_result"
    }
   ],
   "source": [
    "len(dwb.matrix_indices)"
   ]
  },
  {
   "cell_type": "markdown",
   "metadata": {},
   "source": [
    "These can directly be used to generate [`presamples`](https://presamples.readthedocs.io/):"
   ]
  },
  {
   "cell_type": "code",
   "execution_count": 9,
   "metadata": {},
   "outputs": [
    {
     "name": "stdout",
     "output_type": "stream",
     "text": [
      "Presamples with id_ d531ce33faed4bea882f1ce1a61b8608 written at C:\\Users\\Pascal Lesage\\AppData\\Local\\pylca\\Brightway3\\ei36cutoff.e8d08b39952c787ab81510769bc7a655\\presamples\\d531ce33faed4bea882f1ce1a61b8608\n"
     ]
    }
   ],
   "source": [
    "presamples_id, presamples_fp = dwb.create_presamples(\n",
    "    name=None, #Could have specified a string as name, not passing anything will use automatically generated random name\n",
    "    dirpath=None, #Could have specified a directory path to save presamples somewhere specific \n",
    "    id_=None, #Could have specified a string as id, not passing anything will use automatically generated random id\n",
    "    seed='sequential', #or None, or int.\n",
    "    )"
   ]
  },
  {
   "cell_type": "markdown",
   "metadata": {},
   "source": [
    "## Using the samples\n",
    "\n",
    "The samples are formatted for use in brighway2 via the presamples package. \n",
    "\n",
    "The following function calculates:  \n",
    "  - Deterministic results, using `bw.LCA`  \n",
    "  - Stochastic results, using `bw.MonteCarloLCA`  \n",
    "  - Stochastic results using presamples, using `bw.MonteCarloLCA` and passing `presamples=[presamples_fp]`  \n",
    "  \n",
    "The ratio of stochastic results to deterministic results are then plotted for Monte Carlo results with and without presamples.  \n",
    "Ratios for Monte Carlo with presamples are on the order of 1.  \n",
    "Ratios for Monte Carlo without presamples are much greater, as much (for the randomly selected activities) up to two orders of magnitude.    "
   ]
  },
  {
   "cell_type": "code",
   "execution_count": 10,
   "metadata": {},
   "outputs": [],
   "source": [
    "def check_presamples_act(act_key, ps_fp, lcia_method, iterations=1000):\n",
    "    \"\"\"Plot histrograms of Monte Carlo samples/det result for case w/ and w/o presamples\"\"\"\n",
    "    lca = bw.LCA({act_key:1}, method=m)\n",
    "    lca.lci()\n",
    "    lca.lcia()\n",
    "    \n",
    "    mc_arr_wo = np.empty(shape=iterations)\n",
    "    mc = bw.MonteCarloLCA({act_key:1}, method=m)\n",
    "    for i in range(iterations):\n",
    "        mc_arr_wo[i] = next(mc)/lca.score\n",
    "    \n",
    "    mc_arr_w = np.empty(shape=iterations)\n",
    "    mc_w = bw.MonteCarloLCA({act_key:1}, method=m, presamples=[ps_fp])\n",
    "    for i in range(iterations):\n",
    "        mc_arr_w[i] = next(mc_w)/lca.score\n",
    "    \n",
    "    plt.hist(mc_arr_wo, histtype=\"step\", color='orange', label=\"without presamples\")\n",
    "    plt.hist(mc_arr_w, histtype=\"step\", color='green', label=\"with presamples\")\n",
    "    plt.legend()"
   ]
  },
  {
   "cell_type": "markdown",
   "metadata": {},
   "source": [
    "Let's run this on a couple of random ecoinvent products with the ImpactWorld+ water scarcity LCIA method:"
   ]
  },
  {
   "cell_type": "code",
   "execution_count": 11,
   "metadata": {},
   "outputs": [],
   "source": [
    "m=('IMPACTWorld+ (Default_Recommended_Midpoint 1.23)', 'Midpoint', 'Water scarcity')"
   ]
  },
  {
   "cell_type": "code",
   "execution_count": 12,
   "metadata": {},
   "outputs": [],
   "source": [
    "import matplotlib.pyplot as plt\n",
    "%matplotlib inline"
   ]
  },
  {
   "cell_type": "code",
   "execution_count": 14,
   "metadata": {},
   "outputs": [
    {
     "name": "stdout",
     "output_type": "stream",
     "text": [
      "Randomly working on  'treatment of waste gypsum, sanitary landfill' (kilogram, CH, None)\n"
     ]
    },
    {
     "data": {
      "image/png": "[encoded data removed]",
      "text/plain": [
       "<Figure size 432x288 with 1 Axes>"
      ]
     },
     "metadata": {
      "needs_background": "light"
     },
     "output_type": "display_data"
    }
   ],
   "source": [
    "act = bw.Database('ei36_cutoff').random()\n",
    "print(\"Randomly working on \", act)\n",
    "check_presamples_act(act.key, presamples_fp, m)"
   ]
  },
  {
   "cell_type": "code",
   "execution_count": 15,
   "metadata": {},
   "outputs": [
    {
     "name": "stdout",
     "output_type": "stream",
     "text": [
      "Randomly working on  'market for decommissioned pipeline, natural gas' (kilogram, CH, None)\n"
     ]
    },
    {
     "data": {
      "image/png": "[encoded data removed]",
      "text/plain": [
       "<Figure size 432x288 with 1 Axes>"
      ]
     },
     "metadata": {
      "needs_background": "light"
     },
     "output_type": "display_data"
    }
   ],
   "source": [
    "act = bw.Database('ei36_cutoff').random()\n",
    "print(\"Randomly working on \", act)\n",
    "check_presamples_act(act.key, presamples_fp, m)"
   ]
  },
  {
   "cell_type": "code",
   "execution_count": 16,
   "metadata": {},
   "outputs": [
    {
     "name": "stdout",
     "output_type": "stream",
     "text": [
      "Randomly working on  'mine construction, open cast, steatite' (unit, RoW, None)\n"
     ]
    },
    {
     "data": {
      "image/png": "[encoded data removed]",
      "text/plain": [
       "<Figure size 432x288 with 1 Axes>"
      ]
     },
     "metadata": {
      "needs_background": "light"
     },
     "output_type": "display_data"
    }
   ],
   "source": [
    "act = bw.Database('ei36_cutoff').random()\n",
    "print(\"Randomly working on \", act)\n",
    "check_presamples_act(act.key, presamples_fp, m)"
   ]
  },
  {
   "cell_type": "code",
   "execution_count": 17,
   "metadata": {},
   "outputs": [
    {
     "name": "stdout",
     "output_type": "stream",
     "text": [
      "Randomly working on  'printed wiring board mounting facility construction, surface mounting line' (unit, GLO, None)\n"
     ]
    },
    {
     "data": {
      "image/png": "[encoded data removed]",
      "text/plain": [
       "<Figure size 432x288 with 1 Axes>"
      ]
     },
     "metadata": {
      "needs_background": "light"
     },
     "output_type": "display_data"
    }
   ],
   "source": [
    "act = bw.Database('ei36_cutoff').random()\n",
    "print(\"Randomly working on \", act)\n",
    "check_presamples_act(act.key, presamples_fp, m)"
   ]
  },
  {
   "cell_type": "code",
   "execution_count": 18,
   "metadata": {},
   "outputs": [
    {
     "name": "stdout",
     "output_type": "stream",
     "text": [
      "Randomly working on  'electricity production, nuclear, pressure water reactor' (kilowatt hour, BG, None)\n"
     ]
    },
    {
     "data": {
      "image/png": "[encoded data removed]",
      "text/plain": [
       "<Figure size 432x288 with 1 Axes>"
      ]
     },
     "metadata": {
      "needs_background": "light"
     },
     "output_type": "display_data"
    }
   ],
   "source": [
    "act = bw.Database('ei36_cutoff').random()\n",
    "print(\"Randomly working on \", act)\n",
    "check_presamples_act(act.key, presamples_fp, m)"
   ]
  }
 ],
 "metadata": {
  "kernelspec": {
   "display_name": "Python 3",
   "language": "python",
   "name": "python3"
  },
  "language_info": {
   "codemirror_mode": {
    "name": "ipython",
    "version": 3
   },
   "file_extension": ".py",
   "mimetype": "text/x-python",
   "name": "python",
   "nbconvert_exporter": "python",
   "pygments_lexer": "ipython3",
   "version": "3.7.3"
  },
  "toc": {
   "base_numbering": 1,
   "nav_menu": {},
   "number_sections": false,
   "sideBar": true,
   "skip_h1_title": false,
   "title_cell": "Table of Contents",
   "title_sidebar": "Contents",
   "toc_cell": false,
   "toc_position": {},
   "toc_section_display": true,
   "toc_window_display": true
  },
  "varInspector": {
   "cols": {
    "lenName": 16,
    "lenType": 16,
    "lenVar": 40
   },
   "kernels_config": {
    "python": {
     "delete_cmd_postfix": "",
     "delete_cmd_prefix": "del ",
     "library": "var_list.py",
     "varRefreshCmd": "print(var_dic_list())"
    },
    "r": {
     "delete_cmd_postfix": ") ",
     "delete_cmd_prefix": "rm(",
     "library": "var_list.r",
     "varRefreshCmd": "cat(var_dic_list()) "
    }
   },
   "types_to_exclude": [
    "module",
    "function",
    "builtin_function_or_method",
    "instance",
    "_Feature"
   ],
   "window_display": false
  }
 },
 "nbformat": 4,
 "nbformat_minor": 2
}
